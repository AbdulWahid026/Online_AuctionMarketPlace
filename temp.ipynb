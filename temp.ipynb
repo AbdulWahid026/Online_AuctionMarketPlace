{
 "cells": [
  {
   "cell_type": "code",
   "execution_count": 3,
   "metadata": {},
   "outputs": [],
   "source": [
    "from flask import Flask, request, render_template, session, redirect, url_for\n",
    "from flask_bcrypt import Bcrypt\n",
    "import jwt\n",
    "from flask_login import LoginManager, login_user, current_user, login_required, UserMixin, logout_user\n",
    "from flask import flash\n",
    "from models import db, User, Auction, Bid\n",
    "from datetime import datetime\n",
    "import secrets\n",
    "from flask_session import Session\n",
    "from functools import wraps\n",
    "\n",
    "secret_key = secrets.token_hex(32)\n",
    "\n",
    "secret_key = secrets.token_hex(32)\n",
    "\n",
    "app = Flask(__name__)\n",
    "bcrypt = Bcrypt(app)\n",
    "login_manager = LoginManager(app)\n",
    "\n",
    "app.config['SECRET_KEY'] = secret_key\n",
    "app.config['SQLALCHEMY_DATABASE_URI'] = 'sqlite:///auction.db'\n",
    "\n",
    "app.config['SECRET_KEY'] = secret_key\n",
    "app.config['SESSION_TYPE'] = 'filesystem'  # You can use other session types as well\n",
    "app.config['SESSION_USE_SIGNER'] = True   # To sign session cookies for added security\n",
    "app.config['SESSION_KEY_PREFIX'] = 'auction_app_'  # Prefix for session keys\n",
    "\n",
    "db.init_app(app)\n",
    "with app.app_context():\n",
    "    db.create_all()\n",
    "Session(app)\n",
    "\n",
    "\n",
    "import sqlite3\n",
    "\n",
    "# Connect to the SQLite database\n",
    "conn = sqlite3.connect('auction.db')\n",
    "cursor = conn.cursor()\n",
    "\n",
    "# Execute a SQL DELETE statement to delete all rows from the table\n",
    "cursor.execute('DELETE FROM auction where id in (1,2,3,4,5,6,7)')\n",
    "\n",
    "# Commit the transaction\n",
    "conn.commit()\n",
    "\n",
    "# Close the database connection\n",
    "conn.close()\n"
   ]
  },
  {
   "cell_type": "code",
   "execution_count": null,
   "metadata": {},
   "outputs": [],
   "source": []
  }
 ],
 "metadata": {
  "kernelspec": {
   "display_name": "Python 3",
   "language": "python",
   "name": "python3"
  },
  "language_info": {
   "codemirror_mode": {
    "name": "ipython",
    "version": 3
   },
   "file_extension": ".py",
   "mimetype": "text/x-python",
   "name": "python",
   "nbconvert_exporter": "python",
   "pygments_lexer": "ipython3",
   "version": "3.11.2"
  }
 },
 "nbformat": 4,
 "nbformat_minor": 2
}
